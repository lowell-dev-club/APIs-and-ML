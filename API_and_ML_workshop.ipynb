{
  "nbformat": 4,
  "nbformat_minor": 0,
  "metadata": {
    "colab": {
      "name": "API and ML workshop.ipynb",
      "provenance": []
    },
    "kernelspec": {
      "name": "python3",
      "display_name": "Python 3"
    }
  },
  "cells": [
    {
      "cell_type": "markdown",
      "metadata": {
        "id": "ITaduey5PtEI"
      },
      "source": [
        "# APIS and ML"
      ]
    },
    {
      "cell_type": "markdown",
      "metadata": {
        "id": "h8zxMYe7Pwnh"
      },
      "source": [
        "## What are APIs?\n",
        "APIs are application processing intefaces that allow programmers to enter data and receive data back."
      ]
    },
    {
      "cell_type": "code",
      "metadata": {
        "id": "Scsnz2S1Pvbv",
        "outputId": "51acf6f0-4e4d-4058-c765-4fafd63d60b9",
        "colab": {
          "base_uri": "https://localhost:8080/"
        }
      },
      "source": [
        "# There are several ways of accessing APIs. These ways are dependent on who is \n",
        "# making the API. For example: The Register Domain API is only accessible through \n",
        "# https requests.\n",
        "\n",
        "# Let's try it\n",
        "import requests\n",
        "\n",
        "url = \"https://api.domainsdb.info/v1/domains/search?domain={facebook}\"\n",
        "response = requests.get(url)\n",
        "\n",
        "print(response.text)"
      ],
      "execution_count": null,
      "outputs": [
        {
          "output_type": "stream",
          "text": [
            "{\"domains\": [{\"domain\": \"facebook-tv.video\", \"create_date\": \"2020-10-31T00:21:59.933265\", \"update_date\": \"2020-10-31T00:21:59.933268\", \"country\": null, \"isDead\": \"False\", \"A\": null, \"NS\": null, \"CNAME\": null, \"MX\": null, \"TXT\": null}, {\"domain\": \"xn--facebook-0s4gisxg.net\", \"create_date\": \"2020-10-31T00:15:23.705029\", \"update_date\": \"2020-10-31T00:15:23.705034\", \"country\": \"JP\", \"isDead\": \"False\", \"A\": [\"157.112.152.17\"], \"NS\": [\"ns1.xserver.jp\", \"ns2.xserver.jp\", \"ns3.xserver.jp\", \"ns4.xserver.jp\", \"ns5.xserver.jp\"], \"CNAME\": null, \"MX\": [{\"exchange\": \"xn--facebook-0s4gisxg.net\", \"priority\": 0}], \"TXT\": null}, {\"domain\": \"xn--facebook-sd0mm24q.net\", \"create_date\": \"2020-10-31T00:15:23.705619\", \"update_date\": \"2020-10-31T00:15:23.705624\", \"country\": null, \"isDead\": \"False\", \"A\": null, \"NS\": null, \"CNAME\": null, \"MX\": null, \"TXT\": null}, {\"domain\": \"xn--facebook-b34g6ct069cbm1b.net\", \"create_date\": \"2020-10-31T00:15:23.705330\", \"update_date\": \"2020-10-31T00:15:23.705335\", \"country\": \"JP\", \"isDead\": \"False\", \"A\": [\"202.254.236.2\"], \"NS\": [\"ns5.xserver.jp\", \"ns2.xserver.jp\", \"ns1.xserver.jp\", \"ns3.xserver.jp\", \"ns4.xserver.jp\"], \"CNAME\": null, \"MX\": [{\"exchange\": \"xn--facebook-b34g6ct069cbm1b.net\", \"priority\": 0}], \"TXT\": null}, {\"domain\": \"the-facebook-broker.net\", \"create_date\": \"2020-10-31T00:02:07.556720\", \"update_date\": \"2020-10-31T00:02:07.556722\", \"country\": \"DE\", \"isDead\": \"False\", \"A\": [\"217.160.233.246\"], \"NS\": [\"ns1092.ui-dns.de\", \"ns1092.ui-dns.biz\", \"ns1092.ui-dns.org\", \"ns1092.ui-dns.com\"], \"CNAME\": null, \"MX\": [{\"exchange\": \"mx00.1and1.co.uk\", \"priority\": 10}, {\"exchange\": \"mx01.1and1.co.uk\", \"priority\": 10}], \"TXT\": null}, {\"domain\": \"get-free-facebook-phone.net\", \"create_date\": \"2020-10-30T23:12:15.985017\", \"update_date\": \"2020-10-30T23:12:15.985020\", \"country\": null, \"isDead\": \"False\", \"A\": null, \"NS\": [\"ns2.lovellsnames.org\", \"ns3.lovellsnames.org\", \"ns1.lovellsnames.org\", \"ns4.lovellsnames.org\"], \"CNAME\": null, \"MX\": null, \"TXT\": null}, {\"domain\": \"get-free-facebook-connect-phone.net\", \"create_date\": \"2020-10-30T23:12:15.984861\", \"update_date\": \"2020-10-30T23:12:15.984864\", \"country\": null, \"isDead\": \"False\", \"A\": null, \"NS\": [\"ns4.lovellsnames.org\", \"ns3.lovellsnames.org\", \"ns1.lovellsnames.org\", \"ns2.lovellsnames.org\"], \"CNAME\": null, \"MX\": null, \"TXT\": null}, {\"domain\": \"facebook-vs-google.net\", \"create_date\": \"2020-10-30T23:08:14.737163\", \"update_date\": \"2020-10-30T23:08:14.737166\", \"country\": \"US\", \"isDead\": \"False\", \"A\": [\"65.99.237.111\"], \"NS\": [\"ns1.speedydns.net\", \"ns2.speedydns.net\"], \"CNAME\": null, \"MX\": [{\"exchange\": \"facebook-vs-google.net\", \"priority\": 0}], \"TXT\": [\"v=spf1 +a +mx +ip4:65.99.237.39 +include:websitewelcome.com ~all\"]}, {\"domain\": \"facebook-whitehat.net\", \"create_date\": \"2020-10-30T23:08:14.737322\", \"update_date\": \"2020-10-30T23:08:14.737324\", \"country\": null, \"isDead\": \"False\", \"A\": null, \"NS\": null, \"CNAME\": null, \"MX\": null, \"TXT\": null}, {\"domain\": \"facebook-vr.net\", \"create_date\": \"2020-10-30T23:08:14.737006\", \"update_date\": \"2020-10-30T23:08:14.737009\", \"country\": \"DE\", \"isDead\": \"False\", \"A\": [\"178.254.11.154\"], \"NS\": [\"ns01.1blu.de\", \"ns02.1blu.de\"], \"CNAME\": null, \"MX\": [{\"exchange\": \"mail.facebook-vr.net\", \"priority\": 10}], \"TXT\": null}, {\"domain\": \"facebook-tutorial.net\", \"create_date\": \"2020-10-30T23:08:14.736535\", \"update_date\": \"2020-10-30T23:08:14.736538\", \"country\": \"DE\", \"isDead\": \"False\", \"A\": [\"89.31.143.1\"], \"NS\": [\"ns.udag.de\", \"ns.udag.net\", \"ns.udag.org\"], \"CNAME\": null, \"MX\": [{\"exchange\": \"mx01.udag.de\", \"priority\": 20}, {\"exchange\": \"mx00.udag.de\", \"priority\": 10}], \"TXT\": null}, {\"domain\": \"facebook-up.net\", \"create_date\": \"2020-10-30T23:08:14.736693\", \"update_date\": \"2020-10-30T23:08:14.736695\", \"country\": \"JP\", \"isDead\": \"False\", \"A\": [\"153.122.130.136\"], \"NS\": [\"ns1.clsvrsystems.net\", \"ns2.clsvrsystems.net\"], \"CNAME\": null, \"MX\": [{\"exchange\": \"facebook-up.net\", \"priority\": 10}], \"TXT\": null}, {\"domain\": \"facebook-texas-holdem.net\", \"create_date\": \"2020-10-30T23:08:14.736063\", \"update_date\": \"2020-10-30T23:08:14.736065\", \"country\": null, \"isDead\": \"False\", \"A\": null, \"NS\": [\"a.ns.facebook.com\", \"b.ns.facebook.com\"], \"CNAME\": null, \"MX\": null, \"TXT\": null}, {\"domain\": \"facebook-tiktok.net\", \"create_date\": \"2020-10-30T23:08:14.736220\", \"update_date\": \"2020-10-30T23:08:14.736222\", \"country\": null, \"isDead\": \"False\", \"A\": null, \"NS\": null, \"CNAME\": null, \"MX\": null, \"TXT\": null}, {\"domain\": \"facebook-v2.net\", \"create_date\": \"2020-10-30T23:08:14.736849\", \"update_date\": \"2020-10-30T23:08:14.736852\", \"country\": null, \"isDead\": \"False\", \"A\": null, \"NS\": null, \"CNAME\": null, \"MX\": null, \"TXT\": null}, {\"domain\": \"facebook-tr.net\", \"create_date\": \"2020-10-30T23:08:14.736378\", \"update_date\": \"2020-10-30T23:08:14.736380\", \"country\": null, \"isDead\": \"False\", \"A\": null, \"NS\": null, \"CNAME\": null, \"MX\": null, \"TXT\": null}, {\"domain\": \"facebook-supportcovid.net\", \"create_date\": \"2020-10-30T23:08:14.735106\", \"update_date\": \"2020-10-30T23:08:14.735109\", \"country\": null, \"isDead\": \"False\", \"A\": null, \"NS\": null, \"CNAME\": null, \"MX\": null, \"TXT\": null}, {\"domain\": \"facebook-team.net\", \"create_date\": \"2020-10-30T23:08:14.735747\", \"update_date\": \"2020-10-30T23:08:14.735750\", \"country\": null, \"isDead\": \"False\", \"A\": null, \"NS\": [\"a.ns.facebook.com\", \"b.ns.facebook.com\"], \"CNAME\": null, \"MX\": null, \"TXT\": null}, {\"domain\": \"facebook-supportform.net\", \"create_date\": \"2020-10-30T23:08:14.735428\", \"update_date\": \"2020-10-30T23:08:14.735430\", \"country\": null, \"isDead\": \"False\", \"A\": null, \"NS\": null, \"CNAME\": null, \"MX\": null, \"TXT\": null}, {\"domain\": \"facebook-suspend-account.net\", \"create_date\": \"2020-10-30T23:08:14.735588\", \"update_date\": \"2020-10-30T23:08:14.735591\", \"country\": null, \"isDead\": \"False\", \"A\": null, \"NS\": null, \"CNAME\": null, \"MX\": null, \"TXT\": null}, {\"domain\": \"facebook-templates.net\", \"create_date\": \"2020-10-30T23:08:14.735905\", \"update_date\": \"2020-10-30T23:08:14.735908\", \"country\": \"US\", \"isDead\": \"False\", \"A\": [\"205.196.23.40\"], \"NS\": [\"dns1.icertified.net\", \"dns2.icertified.net\"], \"CNAME\": null, \"MX\": [{\"exchange\": \"facebook-templates.net\", \"priority\": 0}], \"TXT\": null}, {\"domain\": \"facebook-supportcovid19.net\", \"create_date\": \"2020-10-30T23:08:14.735268\", \"update_date\": \"2020-10-30T23:08:14.735271\", \"country\": null, \"isDead\": \"False\", \"A\": null, \"NS\": null, \"CNAME\": null, \"MX\": null, \"TXT\": null}, {\"domain\": \"facebook-support-covid.net\", \"create_date\": \"2020-10-30T23:08:14.734295\", \"update_date\": \"2020-10-30T23:08:14.734297\", \"country\": null, \"isDead\": \"False\", \"A\": null, \"NS\": null, \"CNAME\": null, \"MX\": null, \"TXT\": null}, {\"domain\": \"facebook-support.net\", \"create_date\": \"2020-10-30T23:08:14.734609\", \"update_date\": \"2020-10-30T23:08:14.734612\", \"country\": \"IE\", \"isDead\": \"False\", \"A\": [\"31.13.86.8\"], \"NS\": [\"b.ns.facebook.com\", \"a.ns.facebook.com\"], \"CNAME\": null, \"MX\": null, \"TXT\": [\"v=spf1 -all\"]}, {\"domain\": \"facebook-supportcovid-19.net\", \"create_date\": \"2020-10-30T23:08:14.734931\", \"update_date\": \"2020-10-30T23:08:14.734933\", \"country\": null, \"isDead\": \"False\", \"A\": null, \"NS\": null, \"CNAME\": null, \"MX\": null, \"TXT\": null}, {\"domain\": \"facebook-support-covid-19.net\", \"create_date\": \"2020-10-30T23:08:14.734137\", \"update_date\": \"2020-10-30T23:08:14.734139\", \"country\": null, \"isDead\": \"False\", \"A\": null, \"NS\": null, \"CNAME\": null, \"MX\": null, \"TXT\": null}, {\"domain\": \"facebook-support-covid19.net\", \"create_date\": \"2020-10-30T23:08:14.734452\", \"update_date\": \"2020-10-30T23:08:14.734455\", \"country\": null, \"isDead\": \"False\", \"A\": null, \"NS\": null, \"CNAME\": null, \"MX\": null, \"TXT\": null}, {\"domain\": \"facebook-supportcoronavirus.net\", \"create_date\": \"2020-10-30T23:08:14.734771\", \"update_date\": \"2020-10-30T23:08:14.734774\", \"country\": null, \"isDead\": \"False\", \"A\": null, \"NS\": null, \"CNAME\": null, \"MX\": null, \"TXT\": null}, {\"domain\": \"facebook-ssl.net\", \"create_date\": \"2020-10-30T23:08:14.733191\", \"update_date\": \"2020-10-30T23:08:14.733194\", \"country\": null, \"isDead\": \"False\", \"A\": null, \"NS\": [\"a.ns.facebook.com\", \"b.ns.facebook.com\"], \"CNAME\": null, \"MX\": null, \"TXT\": null}, {\"domain\": \"facebook-start.net\", \"create_date\": \"2020-10-30T23:08:14.733348\", \"update_date\": \"2020-10-30T23:08:14.733351\", \"country\": null, \"isDead\": \"False\", \"A\": null, \"NS\": [\"a.ns.facebook.com\", \"b.ns.facebook.com\"], \"CNAME\": null, \"MX\": null, \"TXT\": null}, {\"domain\": \"facebook-static.net\", \"create_date\": \"2020-10-30T23:08:14.733505\", \"update_date\": \"2020-10-30T23:08:14.733508\", \"country\": null, \"isDead\": \"False\", \"A\": null, \"NS\": null, \"CNAME\": null, \"MX\": null, \"TXT\": null}, {\"domain\": \"facebook-studios.net\", \"create_date\": \"2020-10-30T23:08:14.733822\", \"update_date\": \"2020-10-30T23:08:14.733825\", \"country\": \"IE\", \"isDead\": \"False\", \"A\": [\"31.13.83.8\"], \"NS\": [\"b.ns.facebook.com\", \"a.ns.facebook.com\"], \"CNAME\": null, \"MX\": null, \"TXT\": [\"v=spf1 -all\"]}, {\"domain\": \"facebook-shops.net\", \"create_date\": \"2020-10-30T23:08:14.733033\", \"update_date\": \"2020-10-30T23:08:14.733036\", \"country\": \"DE\", \"isDead\": \"False\", \"A\": [\"185.53.179.6\"], \"NS\": [\"ns1.parkingcrew.net\", \"ns2.parkingcrew.net\"], \"CNAME\": null, \"MX\": [{\"exchange\": \"mail.h-email.net\", \"priority\": 5}], \"TXT\": [\"v=spf1 ip6:fd1b:212c:a5f9::/48 -all\"]}, {\"domain\": \"facebook-stories.net\", \"create_date\": \"2020-10-30T23:08:14.733662\", \"update_date\": \"2020-10-30T23:08:14.733665\", \"country\": null, \"isDead\": \"False\", \"A\": null, \"NS\": [\"a.ns.facebook.com\", \"b.ns.facebook.com\"], \"CNAME\": null, \"MX\": null, \"TXT\": null}, {\"domain\": \"facebook-support-coronavirus.net\", \"create_date\": \"2020-10-30T23:08:14.733980\", \"update_date\": \"2020-10-30T23:08:14.733982\", \"country\": null, \"isDead\": \"False\", \"A\": null, \"NS\": null, \"CNAME\": null, \"MX\": null, \"TXT\": null}, {\"domain\": \"facebook-shop.net\", \"create_date\": \"2020-10-30T23:08:14.732877\", \"update_date\": \"2020-10-30T23:08:14.732879\", \"country\": null, \"isDead\": \"False\", \"A\": null, \"NS\": null, \"CNAME\": null, \"MX\": null, \"TXT\": null}, {\"domain\": \"facebook-retargeting.net\", \"create_date\": \"2020-10-30T23:08:14.732405\", \"update_date\": \"2020-10-30T23:08:14.732408\", \"country\": \"US\", \"isDead\": \"False\", \"A\": [\"169.55.141.98\"], \"NS\": [\"ns69.domaincontrol.com\", \"ns70.domaincontrol.com\"], \"CNAME\": null, \"MX\": null, \"TXT\": null}, {\"domain\": \"facebook-search.net\", \"create_date\": \"2020-10-30T23:08:14.732563\", \"update_date\": \"2020-10-30T23:08:14.732565\", \"country\": \"FR\", \"isDead\": \"False\", \"A\": [\"213.186.33.5\"], \"NS\": [\"ns110.ovh.net\", \"dns110.ovh.net\"], \"CNAME\": null, \"MX\": [{\"exchange\": \"mx1.ovh.net\", \"priority\": 1}, {\"exchange\": \"mx2.ovh.net\", \"priority\": 5}, {\"exchange\": \"mxb.ovh.net\", \"priority\": 100}], \"TXT\": [\"1|www.world-actuality.com\"]}, {\"domain\": \"facebook-reality-labs.net\", \"create_date\": \"2020-10-30T23:08:14.732091\", \"update_date\": \"2020-10-30T23:08:14.732094\", \"country\": null, \"isDead\": \"False\", \"A\": null, \"NS\": null, \"CNAME\": null, \"MX\": null, \"TXT\": null}, {\"domain\": \"facebook-recruiting.net\", \"create_date\": \"2020-10-30T23:08:14.732249\", \"update_date\": \"2020-10-30T23:08:14.732251\", \"country\": \"DE\", \"isDead\": \"False\", \"A\": [\"80.67.16.8\"], \"NS\": [\"ns2.namespace4you.com\", \"ns.namespace4you.com\"], \"CNAME\": null, \"MX\": [{\"exchange\": \"mxlb.ispgateway.de\", \"priority\": 100}], \"TXT\": null}, {\"domain\": \"facebook-security.net\", \"create_date\": \"2020-10-30T23:08:14.732720\", \"update_date\": \"2020-10-30T23:08:14.732723\", \"country\": \"US\", \"isDead\": \"False\", \"A\": [\"184.168.221.95\"], \"NS\": [\"ns10.domaincontrol.com\", \"ns09.domaincontrol.com\"], \"CNAME\": null, \"MX\": null, \"TXT\": null}, {\"domain\": \"facebook-poker.net\", \"create_date\": \"2020-10-30T23:08:14.731463\", \"update_date\": \"2020-10-30T23:08:14.731466\", \"country\": null, \"isDead\": \"False\", \"A\": null, \"NS\": [\"a.ns.facebook.com\", \"b.ns.facebook.com\"], \"CNAME\": null, \"MX\": null, \"TXT\": null}, {\"domain\": \"facebook-pmdcenter.net\", \"create_date\": \"2020-10-30T23:08:14.731147\", \"update_date\": \"2020-10-30T23:08:14.731149\", \"country\": \"US\", \"isDead\": \"False\", \"A\": [\"157.240.24.20\"], \"NS\": [\"a.ns.facebook.com\", \"b.ns.facebook.com\"], \"CNAME\": null, \"MX\": null, \"TXT\": [\"v=spf1 -all\"]}, {\"domain\": \"facebook-pro.net\", \"create_date\": \"2020-10-30T23:08:14.731777\", \"update_date\": \"2020-10-30T23:08:14.731779\", \"country\": null, \"isDead\": \"False\", \"A\": null, \"NS\": null, \"CNAME\": null, \"MX\": null, \"TXT\": null}, {\"domain\": \"facebook-pocker.net\", \"create_date\": \"2020-10-30T23:08:14.731306\", \"update_date\": \"2020-10-30T23:08:14.731308\", \"country\": null, \"isDead\": \"False\", \"A\": null, \"NS\": [\"a.ns.facebook.com\", \"b.ns.facebook.com\"], \"CNAME\": null, \"MX\": null, \"TXT\": null}, {\"domain\": \"facebook-privacy.net\", \"create_date\": \"2020-10-30T23:08:14.731620\", \"update_date\": \"2020-10-30T23:08:14.731623\", \"country\": \"US\", \"isDead\": \"False\", \"A\": [\"173.236.177.185\"], \"NS\": [\"ns3.dreamhost.com\", \"ns2.dreamhost.com\", \"ns1.dreamhost.com\"], \"CNAME\": null, \"MX\": null, \"TXT\": null}, {\"domain\": \"facebook-program.net\", \"create_date\": \"2020-10-30T23:08:14.731934\", \"update_date\": \"2020-10-30T23:08:14.731937\", \"country\": null, \"isDead\": \"False\", \"A\": null, \"NS\": [\"a.ns.facebook.com\", \"b.ns.facebook.com\"], \"CNAME\": null, \"MX\": null, \"TXT\": null}, {\"domain\": \"facebook-navi.net\", \"create_date\": \"2020-10-30T23:08:14.730180\", \"update_date\": \"2020-10-30T23:08:14.730183\", \"country\": \"IE\", \"isDead\": \"False\", \"A\": [\"34.254.1.203\"], \"NS\": [\"ns1.muumuu-domain.com\", \"ns2.muumuu-domain.com\"], \"CNAME\": null, \"MX\": null, \"TXT\": null}, {\"domain\": \"facebook-notification.net\", \"create_date\": \"2020-10-30T23:08:14.730496\", \"update_date\": \"2020-10-30T23:08:14.730498\", \"country\": null, \"isDead\": \"False\", \"A\": null, \"NS\": [\"a.ns.facebook.com\", \"b.ns.facebook.com\"], \"CNAME\": null, \"MX\": null, \"TXT\": null}, {\"domain\": \"facebook-my.net\", \"create_date\": \"2020-10-30T23:08:14.730022\", \"update_date\": \"2020-10-30T23:08:14.730024\", \"country\": \"JP\", \"isDead\": \"False\", \"A\": [\"202.254.236.74\"], \"NS\": [\"ns1.xserver.jp\", \"ns4.xserver.jp\", \"ns2.xserver.jp\", \"ns3.xserver.jp\", \"ns5.xserver.jp\"], \"CNAME\": null, \"MX\": [{\"exchange\": \"facebook-my.net\", \"priority\": 0}], \"TXT\": null}], \"total\": 2020, \"time\": \"4400\", \"next_page\": null}\n",
            "\n"
          ],
          "name": "stdout"
        }
      ]
    },
    {
      "cell_type": "code",
      "metadata": {
        "id": "VH04y-AbUAwS",
        "outputId": "c7db4c6f-e10e-498e-b46d-c13c1fcb5553",
        "colab": {
          "base_uri": "https://localhost:8080/"
        }
      },
      "source": [
        "# Let's try a different API. This time this api will not be accessible through https requests,\n",
        "# but through a python library. For example the passlib library for protecting passwords through hashing.\n",
        "\n",
        "# import the hash algorithm\n",
        "!pip install passlib\n",
        "from passlib.hash import pbkdf2_sha256\n",
        "\n",
        "# generate new salt, and hash a password\n",
        "hash = pbkdf2_sha256.hash(\"toomanysecrets\")\n",
        "print(hash)\n",
        "\n",
        "# In this case the data we're inputting is the word that we want to hash\n",
        "# The data the API is giving us back is the hashed and protected word.\n",
        "\n",
        "# verifying the password\n",
        "ver1 = pbkdf2_sha256.verify(\"toomanysecrets\", hash)\n",
        "print(ver1)\n",
        "\n",
        "ver2 = pbkdf2_sha256.verify(\"joshua\", hash)\n",
        "print(ver2)\n"
      ],
      "execution_count": 7,
      "outputs": [
        {
          "output_type": "stream",
          "text": [
            "Requirement already satisfied: passlib in /usr/local/lib/python3.6/dist-packages (1.7.4)\n",
            "$pbkdf2-sha256$29000$UmotRahVao1Rau39P4cwxg$2zs4AUj7tEIlK.V3UP2PwgIAc2AkmcgC8BoG.AsOiLs\n",
            "True\n",
            "False\n"
          ],
          "name": "stdout"
        }
      ]
    },
    {
      "cell_type": "code",
      "metadata": {
        "id": "QVtQKgsdVdXQ",
        "outputId": "05e3b59b-b776-47a4-985d-3a2aa2a823f4",
        "colab": {
          "base_uri": "https://localhost:8080/"
        }
      },
      "source": [
        "# Now in this workshop we'll go back to what we explored a couple weeks back about ML.\n",
        "# We were able to train our model on a dataset. Next, we saved the model into a file\n",
        "# for reuse. Well, there's an API of pretrained models for programmers to use.\n",
        "\n",
        "!pip install clarifai\n",
        "from clarifai.rest import ClarifaiApp\n",
        "\n",
        "app = ClarifaiApp(api_key='f861e5dd8aaf49e68cb321d17cd664b9')\n",
        "\n",
        "model = app.public_models.general_model\n",
        "\n",
        "image_url = 'https://hips.hearstapps.com/hmg-prod.s3.amazonaws.com/images/lights4fun-snowy-christmas-tree-1601420137.jpg?crop=0.961xw:0.721xh;0.0153xw,0.202xh&resize=640:*'\n",
        "response = model.predict_by_url(image_url)\n",
        "print(response)"
      ],
      "execution_count": 14,
      "outputs": [
        {
          "output_type": "stream",
          "text": [
            "Requirement already satisfied: clarifai in /usr/local/lib/python3.6/dist-packages (2.6.2)\n",
            "Requirement already satisfied: requests<3,>=2.13 in /usr/local/lib/python3.6/dist-packages (from clarifai) (2.23.0)\n",
            "Requirement already satisfied: protobuf<4,>=3.6 in /usr/local/lib/python3.6/dist-packages (from clarifai) (3.12.4)\n",
            "Requirement already satisfied: future<2,>=0.15 in /usr/local/lib/python3.6/dist-packages (from clarifai) (0.16.0)\n",
            "Requirement already satisfied: configparser<4,>=3.5 in /usr/local/lib/python3.6/dist-packages (from clarifai) (3.8.1)\n",
            "Requirement already satisfied: jsonschema<3,>=2.5 in /usr/local/lib/python3.6/dist-packages (from clarifai) (2.6.0)\n",
            "Requirement already satisfied: googleapis-common-protos<2,>=1.5.0 in /usr/local/lib/python3.6/dist-packages (from clarifai) (1.52.0)\n",
            "Requirement already satisfied: grpcio<2,>=1.13.0 in /usr/local/lib/python3.6/dist-packages (from clarifai) (1.33.1)\n",
            "Requirement already satisfied: chardet<4,>=3.0.2 in /usr/local/lib/python3.6/dist-packages (from requests<3,>=2.13->clarifai) (3.0.4)\n",
            "Requirement already satisfied: idna<3,>=2.5 in /usr/local/lib/python3.6/dist-packages (from requests<3,>=2.13->clarifai) (2.10)\n",
            "Requirement already satisfied: certifi>=2017.4.17 in /usr/local/lib/python3.6/dist-packages (from requests<3,>=2.13->clarifai) (2020.6.20)\n",
            "Requirement already satisfied: urllib3!=1.25.0,!=1.25.1,<1.26,>=1.21.1 in /usr/local/lib/python3.6/dist-packages (from requests<3,>=2.13->clarifai) (1.24.3)\n",
            "Requirement already satisfied: six>=1.9 in /usr/local/lib/python3.6/dist-packages (from protobuf<4,>=3.6->clarifai) (1.15.0)\n",
            "Requirement already satisfied: setuptools in /usr/local/lib/python3.6/dist-packages (from protobuf<4,>=3.6->clarifai) (50.3.2)\n",
            "{'status': {'code': 10000, 'description': 'Ok', 'req_id': '0d77270ef18b46d3925cb50a9a50ee97'}, 'outputs': [{'id': '3e8b0e43fbcd4bb5bc1fa80ceaa9cc99', 'status': {'code': 10000, 'description': 'Ok'}, 'created_at': '2020-11-03T00:03:50.106602198Z', 'model': {'id': 'aaa03c23b3724a16a56b629203edc62c', 'name': 'general', 'created_at': '2016-03-09T17:11:39.608845Z', 'app_id': 'main', 'output_info': {'output_config': {'concepts_mutually_exclusive': False, 'closed_environment': False, 'max_concepts': 0, 'min_value': 0.0}, 'message': 'Show output_info with: GET /models/{model_id}/output_info', 'type': 'concept', 'type_ext': 'concept'}, 'model_version': {'id': 'aa7f35c01e0642fda5cf400f543e7c40', 'created_at': '2018-03-06T21:10:24.454834Z', 'status': {'code': 21100, 'description': 'Model is trained and ready'}}, 'display_name': 'General'}, 'input': {'id': '306a913707774ee391d6969e2b2da3c2', 'data': {'image': {'url': 'https://hips.hearstapps.com/hmg-prod.s3.amazonaws.com/images/lights4fun-snowy-christmas-tree-1601420137.jpg?crop=0.961xw:0.721xh;0.0153xw,0.202xh&resize=640:*'}}}, 'data': {'concepts': [{'id': 'ai_mKzmkKDG', 'name': 'Christmas', 'value': 0.99987364, 'app_id': 'main'}, {'id': 'ai_2FHPKk9B', 'name': 'winter', 'value': 0.99987006, 'app_id': 'main'}, {'id': 'ai_TjbmxC6B', 'name': 'tree', 'value': 0.9949875, 'app_id': 'main'}, {'id': 'ai_BswKX6Bk', 'name': 'christmas tree', 'value': 0.99489117, 'app_id': 'main'}, {'id': 'ai_lWJnj5XV', 'name': 'interior design', 'value': 0.9947543, 'app_id': 'main'}, {'id': 'ai_l09WQRHT', 'name': 'snow', 'value': 0.9932486, 'app_id': 'main'}, {'id': 'ai_786Zr311', 'name': 'no person', 'value': 0.99177927, 'app_id': 'main'}, {'id': 'ai_L92T2QtK', 'name': 'decoration', 'value': 0.9771284, 'app_id': 'main'}, {'id': 'ai_KPg1tS77', 'name': 'pine', 'value': 0.97485346, 'app_id': 'main'}, {'id': 'ai_Pf2b7clG', 'name': 'indoors', 'value': 0.95403504, 'app_id': 'main'}, {'id': 'ai_8zbKXvD7', 'name': 'sparkling', 'value': 0.93349653, 'app_id': 'main'}, {'id': 'ai_lh0MSqrv', 'name': 'fir', 'value': 0.9327452, 'app_id': 'main'}, {'id': 'ai_snt3L93J', 'name': 'glisten', 'value': 0.92564327, 'app_id': 'main'}, {'id': 'ai_2rl3mkdf', 'name': 'amabilis fir', 'value': 0.92480844, 'app_id': 'main'}, {'id': 'ai_1W3Gfjzg', 'name': 'vacation', 'value': 0.9168938, 'app_id': 'main'}, {'id': 'ai_wmbvr5TG', 'name': 'celebration', 'value': 0.91218567, 'app_id': 'main'}, {'id': 'ai_2KXVGp9Z', 'name': 'hanging', 'value': 0.9094638, 'app_id': 'main'}, {'id': 'ai_gB5qwrpr', 'name': 'glass items', 'value': 0.9083206, 'app_id': 'main'}, {'id': 'ai_0b8XRVlR', 'name': 'evergreen', 'value': 0.90204257, 'app_id': 'main'}, {'id': 'ai_2gmKZLxp', 'name': 'cold', 'value': 0.8997253, 'app_id': 'main'}]}}]}\n"
          ],
          "name": "stdout"
        }
      ]
    },
    {
      "cell_type": "code",
      "metadata": {
        "id": "ChCGyMP5Xsom"
      },
      "source": [
        "# Here's the data in which the API outputted\n",
        "data = {\n",
        "   \"status\":{\n",
        "      \"code\":10000,\n",
        "      \"description\":\"Ok\",\n",
        "      \"req_id\":\"b93b95b81ba646639e13bf1ea8eb74fc\"\n",
        "   },\n",
        "   \"outputs\":[\n",
        "      {\n",
        "         \"id\":\"54352b18e83f4a1e9e697c6d76fea256\",\n",
        "         \"status\":{\n",
        "            \"code\":10000,\n",
        "            \"description\":\"Ok\"\n",
        "         },\n",
        "         \"created_at\":\"2020-11-02T23:51:02.250614915Z\",\n",
        "         \"model\":{\n",
        "            \"id\":\"aaa03c23b3724a16a56b629203edc62c\",\n",
        "            \"name\":\"general\",\n",
        "            \"created_at\":\"2016-03-09T17:11:39.608845Z\",\n",
        "            \"app_id\":\"main\",\n",
        "            \"output_info\":{\n",
        "               \"output_config\":{\n",
        "                  \"concepts_mutually_exclusive\":False,\n",
        "                  \"closed_environment\":False,\n",
        "                  \"max_concepts\":0,\n",
        "                  \"min_value\":0.0\n",
        "               },\n",
        "               \"message\":\"Show output_info with: GET /models/{model_id}/output_info\",\n",
        "               \"type\":\"concept\",\n",
        "               \"type_ext\":\"concept\"\n",
        "            },\n",
        "            \"model_version\":{\n",
        "               \"id\":\"aa7f35c01e0642fda5cf400f543e7c40\",\n",
        "               \"created_at\":\"2018-03-06T21:10:24.454834Z\",\n",
        "               \"status\":{\n",
        "                  \"code\":21100,\n",
        "                  \"description\":\"Model is trained and ready\"\n",
        "               }\n",
        "            },\n",
        "            \"display_name\":\"General\"\n",
        "         },\n",
        "         \"input\":{\n",
        "            \"id\":\"2d8a40fccdfe4329ad3d0f7f53a10694\",\n",
        "            \"data\":{\n",
        "               \"image\":{\n",
        "                  \"url\":\"https://hips.hearstapps.com/hmg-prod.s3.amazonaws.com/images/lights4fun-snowy-christmas-tree-1601420137.jpg?crop=0.961xw:0.721xh;0.0153xw,0.202xh&resize=640:*\"\n",
        "               }\n",
        "            }\n",
        "         },\n",
        "         \"data\":{\n",
        "            \"concepts\":[\n",
        "               {\n",
        "                  \"id\":\"ai_mKzmkKDG\",\n",
        "                  \"name\":\"Christmas\",\n",
        "                  \"value\":0.99987364,\n",
        "                  \"app_id\":\"main\"\n",
        "               },\n",
        "               {\n",
        "                  \"id\":\"ai_2FHPKk9B\",\n",
        "                  \"name\":\"winter\",\n",
        "                  \"value\":0.99987006,\n",
        "                  \"app_id\":\"main\"\n",
        "               },\n",
        "               {\n",
        "                  \"id\":\"ai_TjbmxC6B\",\n",
        "                  \"name\":\"tree\",\n",
        "                  \"value\":0.9949875,\n",
        "                  \"app_id\":\"main\"\n",
        "               },\n",
        "               {\n",
        "                  \"id\":\"ai_BswKX6Bk\",\n",
        "                  \"name\":\"christmas tree\",\n",
        "                  \"value\":0.99489117,\n",
        "                  \"app_id\":\"main\"\n",
        "               },\n",
        "               {\n",
        "                  \"id\":\"ai_lWJnj5XV\",\n",
        "                  \"name\":\"interior design\",\n",
        "                  \"value\":0.9947543,\n",
        "                  \"app_id\":\"main\"\n",
        "               },\n",
        "               {\n",
        "                  \"id\":\"ai_l09WQRHT\",\n",
        "                  \"name\":\"snow\",\n",
        "                  \"value\":0.9932486,\n",
        "                  \"app_id\":\"main\"\n",
        "               },\n",
        "               {\n",
        "                  \"id\":\"ai_786Zr311\",\n",
        "                  \"name\":\"no person\",\n",
        "                  \"value\":0.99177927,\n",
        "                  \"app_id\":\"main\"\n",
        "               },\n",
        "               {\n",
        "                  \"id\":\"ai_L92T2QtK\",\n",
        "                  \"name\":\"decoration\",\n",
        "                  \"value\":0.9771284,\n",
        "                  \"app_id\":\"main\"\n",
        "               },\n",
        "               {\n",
        "                  \"id\":\"ai_KPg1tS77\",\n",
        "                  \"name\":\"pine\",\n",
        "                  \"value\":0.97485346,\n",
        "                  \"app_id\":\"main\"\n",
        "               },\n",
        "               {\n",
        "                  \"id\":\"ai_Pf2b7clG\",\n",
        "                  \"name\":\"indoors\",\n",
        "                  \"value\":0.95403504,\n",
        "                  \"app_id\":\"main\"\n",
        "               },\n",
        "               {\n",
        "                  \"id\":\"ai_8zbKXvD7\",\n",
        "                  \"name\":\"sparkling\",\n",
        "                  \"value\":0.93349653,\n",
        "                  \"app_id\":\"main\"\n",
        "               },\n",
        "               {\n",
        "                  \"id\":\"ai_lh0MSqrv\",\n",
        "                  \"name\":\"fir\",\n",
        "                  \"value\":0.9327452,\n",
        "                  \"app_id\":\"main\"\n",
        "               },\n",
        "               {\n",
        "                  \"id\":\"ai_snt3L93J\",\n",
        "                  \"name\":\"glisten\",\n",
        "                  \"value\":0.92564327,\n",
        "                  \"app_id\":\"main\"\n",
        "               },\n",
        "               {\n",
        "                  \"id\":\"ai_2rl3mkdf\",\n",
        "                  \"name\":\"amabilis fir\",\n",
        "                  \"value\":0.92480844,\n",
        "                  \"app_id\":\"main\"\n",
        "               },\n",
        "               {\n",
        "                  \"id\":\"ai_1W3Gfjzg\",\n",
        "                  \"name\":\"vacation\",\n",
        "                  \"value\":0.9168938,\n",
        "                  \"app_id\":\"main\"\n",
        "               },\n",
        "               {\n",
        "                  \"id\":\"ai_wmbvr5TG\",\n",
        "                  \"name\":\"celebration\",\n",
        "                  \"value\":0.91218567,\n",
        "                  \"app_id\":\"main\"\n",
        "               },\n",
        "               {\n",
        "                  \"id\":\"ai_2KXVGp9Z\",\n",
        "                  \"name\":\"hanging\",\n",
        "                  \"value\":0.9094638,\n",
        "                  \"app_id\":\"main\"\n",
        "               },\n",
        "               {\n",
        "                  \"id\":\"ai_gB5qwrpr\",\n",
        "                  \"name\":\"glass items\",\n",
        "                  \"value\":0.9083206,\n",
        "                  \"app_id\":\"main\"\n",
        "               },\n",
        "               {\n",
        "                  \"id\":\"ai_0b8XRVlR\",\n",
        "                  \"name\":\"evergreen\",\n",
        "                  \"value\":0.90204257,\n",
        "                  \"app_id\":\"main\"\n",
        "               },\n",
        "               {\n",
        "                  \"id\":\"ai_2gmKZLxp\",\n",
        "                  \"name\":\"cold\",\n",
        "                  \"value\":0.8997253,\n",
        "                  \"app_id\":\"main\"\n",
        "               }\n",
        "            ]\n",
        "         }\n",
        "      }\n",
        "   ]\n",
        "}"
      ],
      "execution_count": 10,
      "outputs": []
    },
    {
      "cell_type": "code",
      "metadata": {
        "id": "c7HpAmM2YmcC",
        "outputId": "160e9a9a-67bd-418f-e1d5-47947760df96",
        "colab": {
          "base_uri": "https://localhost:8080/"
        }
      },
      "source": [
        "# Now there are plenty of pretrained models to choose from.\n",
        "# Let's try another one\n",
        "\n",
        "app = ClarifaiApp(api_key='f861e5dd8aaf49e68cb321d17cd664b9')\n",
        "\n",
        "model = app.public_models.face_detection_model\n",
        "\n",
        "# image_url = 'https://miro.medium.com/max/1024/1*N8xj3FDm9rQH13E77s3dyw.jpeg'\n",
        "response = model.predict_by_url(url=image_url)\n",
        "print(response)"
      ],
      "execution_count": 18,
      "outputs": [
        {
          "output_type": "stream",
          "text": [
            "{'status': {'code': 10000, 'description': 'Ok', 'req_id': '82dfaafe2cf84c5b89d6152d15a22780'}, 'outputs': [{'id': '15c23b884eed47dd95caa18ec3be440b', 'status': {'code': 10000, 'description': 'Ok'}, 'created_at': '2020-11-03T00:05:44.213373347Z', 'model': {'id': 'a403429f2ddf4b49b307e318f00e528b', 'name': 'face', 'created_at': '2016-10-25T19:30:38.541073Z', 'app_id': 'main', 'output_info': {'output_config': {'concepts_mutually_exclusive': False, 'closed_environment': False, 'max_concepts': 0, 'min_value': 0.0}, 'message': 'Show output_info with: GET /models/{model_id}/output_info', 'type': 'detect-concept', 'type_ext': 'detect-concept'}, 'model_version': {'id': '34ce21a40cc24b6b96ffee54aabff139', 'created_at': '2019-01-17T19:45:49.087547Z', 'status': {'code': 21100, 'description': 'Model is trained and ready'}}, 'display_name': 'Face Detection'}, 'input': {'id': 'cb23d1db097c423285c4c88c081726b6', 'data': {'image': {'url': 'https://hips.hearstapps.com/hmg-prod.s3.amazonaws.com/images/lights4fun-snowy-christmas-tree-1601420137.jpg?crop=0.961xw:0.721xh;0.0153xw,0.202xh&resize=640:*'}}}, 'data': {'regions': [{'id': 'peyrj22dpyw7', 'region_info': {'bounding_box': {'top_row': 0.86261195, 'left_col': 0.70452577, 'bottom_row': 0.88744485, 'right_col': 0.7260198}}, 'data': {'concepts': [{'id': 'ai_8jtPl3Xj', 'name': 'face', 'value': 0.7172044, 'app_id': 'main'}]}}]}}]}\n"
          ],
          "name": "stdout"
        }
      ]
    },
    {
      "cell_type": "code",
      "metadata": {
        "id": "WZNqmJ4wZT4e"
      },
      "source": [
        "data = {\n",
        "   \"status\":{\n",
        "      \"code\":10000,\n",
        "      \"description\":\"Ok\",\n",
        "      \"req_id\":\"82dfaafe2cf84c5b89d6152d15a22780\"\n",
        "   },\n",
        "   \"outputs\":[\n",
        "      {\n",
        "         \"id\":\"15c23b884eed47dd95caa18ec3be440b\",\n",
        "         \"status\":{\n",
        "            \"code\":10000,\n",
        "            \"description\":\"Ok\"\n",
        "         },\n",
        "         \"created_at\":\"2020-11-03T00:05:44.213373347Z\",\n",
        "         \"model\":{\n",
        "            \"id\":\"a403429f2ddf4b49b307e318f00e528b\",\n",
        "            \"name\":\"face\",\n",
        "            \"created_at\":\"2016-10-25T19:30:38.541073Z\",\n",
        "            \"app_id\":\"main\",\n",
        "            \"output_info\":{\n",
        "               \"output_config\":{\n",
        "                  \"concepts_mutually_exclusive\":False,\n",
        "                  \"closed_environment\":False,\n",
        "                  \"max_concepts\":0,\n",
        "                  \"min_value\":0.0\n",
        "               },\n",
        "               \"message\":\"Show output_info with: GET /models/{model_id}/output_info\",\n",
        "               \"type\":\"detect-concept\",\n",
        "               \"type_ext\":\"detect-concept\"\n",
        "            },\n",
        "            \"model_version\":{\n",
        "               \"id\":\"34ce21a40cc24b6b96ffee54aabff139\",\n",
        "               \"created_at\":\"2019-01-17T19:45:49.087547Z\",\n",
        "               \"status\":{\n",
        "                  \"code\":21100,\n",
        "                  \"description\":\"Model is trained and ready\"\n",
        "               }\n",
        "            },\n",
        "            \"display_name\":\"Face Detection\"\n",
        "         },\n",
        "         \"input\":{\n",
        "            \"id\":\"cb23d1db097c423285c4c88c081726b6\",\n",
        "            \"data\":{\n",
        "               \"image\":{\n",
        "                  \"url\":\"https://hips.hearstapps.com/hmg-prod.s3.amazonaws.com/images/lights4fun-snowy-christmas-tree-1601420137.jpg?crop=0.961xw:0.721xh;0.0153xw,0.202xh&resize=640:*\"\n",
        "               }\n",
        "            }\n",
        "         },\n",
        "         \"data\":{\n",
        "            \"regions\":[\n",
        "               {\n",
        "                  \"id\":\"peyrj22dpyw7\",\n",
        "                  \"region_info\":{\n",
        "                     \"bounding_box\":{\n",
        "                        \"top_row\":0.86261195,\n",
        "                        \"left_col\":0.70452577,\n",
        "                        \"bottom_row\":0.88744485,\n",
        "                        \"right_col\":0.7260198\n",
        "                     }\n",
        "                  },\n",
        "                  \"data\":{\n",
        "                     \"concepts\":[\n",
        "                        {\n",
        "                           \"id\":\"ai_8jtPl3Xj\",\n",
        "                           \"name\":\"face\",\n",
        "                           \"value\":0.7172044,\n",
        "                           \"app_id\":\"main\"\n",
        "                        }\n",
        "                     ]\n",
        "                  }\n",
        "               }\n",
        "            ]\n",
        "         }\n",
        "      }\n",
        "   ]\n",
        "}"
      ],
      "execution_count": 19,
      "outputs": []
    },
    {
      "cell_type": "code",
      "metadata": {
        "id": "rSlWrc_XbUsK"
      },
      "source": [
        "# Now let's play around with the models. Find something you like and change the code to use that model\n",
        "# Here's a list of them\n",
        "# apparel_model, celebrity_model, color_model, demographics_model, face_detection_model\n",
        "# face_embedding_model, food_model, general_embedding_model, general_model\n",
        "# landscape_quality_model, logo_model, moderation_model, nsfw_model, portrait_quality_model\n",
        "# textures_and_patterns_model, travel_model, wedding_model\n",
        "\n",
        "# If you would like to see what these model do in action check this link out:\n",
        "# https://www.clarifai.com/model-gallery"
      ],
      "execution_count": null,
      "outputs": []
    }
  ]
}